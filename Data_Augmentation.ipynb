{
 "cells": [
  {
   "cell_type": "code",
   "execution_count": null,
   "metadata": {
    "collapsed": true
   },
   "outputs": [],
   "source": [
    "import cv2\n",
    "import matplotlib as plt\n",
    "import numpy as np"
   ]
  },
  {
   "cell_type": "code",
   "execution_count": null,
   "metadata": {
    "collapsed": true
   },
   "outputs": [],
   "source": [
    "\n",
    "def augment_brightness(img):\n",
    "    img = cv2.cvtColor(img, cv2.COLOR_RGB2HSV)\n",
    "    img = np.array(img, dtype=np.float64)\n",
    "    random_bright = 1+np.random.uniform()\n",
    "    img[:,:,2] = img[:,:,2]*random_bright\n",
    "    img[:,:,2][img[:,:,2]>255]  = 255\n",
    "    img = np.array(img, dtype = np.uint8)\n",
    "    img = cv2.cvtColor(img,cv2.COLOR_HSV2RGB)\n",
    "    return img\n"
   ]
  },
  {
   "cell_type": "code",
   "execution_count": null,
   "metadata": {
    "collapsed": true
   },
   "outputs": [],
   "source": [
    "def image_translation(img):\n",
    "    rows,cols,_ = img.shape\n",
    "    \n",
    "    # allow translation up to 3 pixels in x and y directions\n",
    "    dx,dy = np.random.randint(-3,3,2)\n",
    "\n",
    "    M = np.float32([[1,0,dx],[0,1,dy]])\n",
    "    translated = cv2.warpAffine(img,M,(cols,rows))\n",
    "    \n",
    "    #translated = translated[:,:,np.newaxis]\n",
    "    return translated"
   ]
  },
  {
   "cell_type": "code",
   "execution_count": null,
   "metadata": {
    "collapsed": true
   },
   "outputs": [],
   "source": [
    "def image_warp(img):\n",
    "    rows,cols,_ = img.shape\n",
    "\n",
    "    # starting points for transform\n",
    "    x1 = 8\n",
    "    x2 = 24\n",
    "    y1 = 8\n",
    "    y2 = 24\n",
    "\n",
    "    pts1 = np.float32([[y1,x1],[y2,x1],[y1,x2]])\n",
    "    \n",
    "    pt1 = 8+4*np.random.uniform()-4\n",
    "    pt2 = 24+4*np.random.uniform()-4\n",
    "    pts2 = np.float32([[pt1,x1],[pt2,pt1],[y1,pt2]])\n",
    "\n",
    "    \n",
    "    M = cv2.getAffineTransform(pts1,pts2)\n",
    "\n",
    "    warped = cv2.warpAffine(img,M,(cols,rows))\n",
    "    \n",
    "    \n",
    "    return warped"
   ]
  },
  {
   "cell_type": "code",
   "execution_count": null,
   "metadata": {
    "collapsed": true
   },
   "outputs": [],
   "source": [
    "def visualize_augmentation_example(images, labels):\n",
    "    fig, axes = plt.subplots(nrows=4, ncols=6, figsize=(15,15))\n",
    "    fig.subplots_adjust(hspace = .2, wspace=.3)\n",
    "    axs = axes.ravel()\n",
    "\n",
    "    for i in range(0,5,2):\n",
    "        index = np.random.randint(0,len(images))\n",
    "        img = images[index]\n",
    "        new_img = augment_brightness(img)\n",
    "        axs[i].imshow(img)\n",
    "        axs[i].axis('off')\n",
    "        axs[i].set_title(\"Label %d Original\" % labels[index])\n",
    "        axs[i+1].imshow(new_img)\n",
    "        axs[i+1].axis('off')\n",
    "        axs[i+1].set_title(\"Label %d w/ brightness\" % labels[index]) \n",
    "    for i in range(6,11,2):\n",
    "        index = np.random.randint(0,len(images))\n",
    "        img = images[index]\n",
    "        new_img = image_warp(img)\n",
    "        axs[i].imshow(img)\n",
    "        axs[i].axis('off')\n",
    "        axs[i].set_title(\"Label %d Original\" % labels[index])\n",
    "        axs[i+1].imshow(new_img)\n",
    "        axs[i+1].axis('off')\n",
    "        axs[i+1].set_title(\"Label %d w/ Shear\" % labels[index]) \n",
    "    for i in range(12,17,2):\n",
    "        index = np.random.randint(0,len(images))\n",
    "        img = images[index]\n",
    "        new_img = image_translation(img)\n",
    "        axs[i].imshow(img)\n",
    "        axs[i].axis('off')\n",
    "        axs[i].set_title(\"Label %d Original\" % labels[index])\n",
    "        axs[i+1].imshow(new_img)\n",
    "        axs[i+1].axis('off')\n",
    "        axs[i+1].set_title(\"Label %d w/ Translation\" % labels[index])\n",
    "    for i in range(18,23,2):\n",
    "        index = np.random.randint(0,len(images))\n",
    "        img = images[index]\n",
    "        new_img = image_translation(image_warp(augment_brightness(img)))\n",
    "        axs[i].imshow(img)\n",
    "        axs[i].axis('off')\n",
    "        axs[i].set_title(\"Label %d Original\" % labels[index])\n",
    "        axs[i+1].imshow(new_img)\n",
    "        axs[i+1].axis('off')\n",
    "        axs[i+1].set_title(\"Label %d w/ all\" % labels[index]) \n",
    "    plt.show()\n",
    "    \n",
    "visualize_augmentation_example(X_train, y_train)"
   ]
  },
  {
   "cell_type": "code",
   "execution_count": null,
   "metadata": {
    "collapsed": true
   },
   "outputs": [],
   "source": [
    "def augment_data(images, labels):\n",
    "    length = len(images)\n",
    "    for i in range(length):\n",
    "        print(i, \"/\", length)\n",
    "        img = images[i]\n",
    "        label = labels[i]\n",
    "        for j in range(3):\n",
    "            new_img = image_translation(image_warp(augment_brightness(img)))\n",
    "            images = np.concatenate((images, [new_img]), axis=0)\n",
    "            labels = np.concatenate((labels, [label]), axis=0)\n",
    "\n",
    "\n",
    "    dist_pickle = {}\n",
    "    dist_pickle[\"features\"] = images\n",
    "    dist_pickle[\"labels\"] = labels\n",
    "    pickle.dump(dist_pickle, open(\"./train_augmented.p\", \"wb\"))\n",
    "    \n",
    "    \n",
    "    # Number of training examples\n",
    "    print(\"Number of training examples =\", len(images))\n",
    "\n",
    "    fig, axes = plt.subplots(nrows=1, ncols=1)\n",
    "    axes.hist(labels, 43)\n",
    "    axes.set_xlabel('Sign #')\n",
    "    axes.set_ylabel('# seen in training set')\n",
    "    axes.set_title('Training set distribution')\n",
    "    plt.show()\n",
    "    \n",
    "    return images, labels\n",
    "    \n",
    "#X_train, y_train = create_additional_data(X_train, y_train)"
   ]
  }
 ],
 "metadata": {
  "kernelspec": {
   "display_name": "Python 3",
   "language": "python",
   "name": "python3"
  },
  "language_info": {
   "codemirror_mode": {
    "name": "ipython",
    "version": 3
   },
   "file_extension": ".py",
   "mimetype": "text/x-python",
   "name": "python",
   "nbconvert_exporter": "python",
   "pygments_lexer": "ipython3",
   "version": "3.5.2"
  },
  "widgets": {
   "state": {},
   "version": "1.1.2"
  }
 },
 "nbformat": 4,
 "nbformat_minor": 2
}
